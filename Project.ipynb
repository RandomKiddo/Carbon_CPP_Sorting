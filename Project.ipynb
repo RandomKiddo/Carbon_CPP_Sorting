{
 "cells": [
  {
   "attachments": {},
   "cell_type": "markdown",
   "metadata": {},
   "source": [
    "# C++ and Carbon Comparisons"
   ]
  },
  {
   "attachments": {},
   "cell_type": "markdown",
   "metadata": {},
   "source": [
    "### Computer Specs\n",
    "\n",
    "This is what each file was run on (for consistency)\n",
    "\n",
    "Operation System: MacOS Big Sur\n",
    "CPU: 2.3GHz Quad-Core Intel i7\n",
    "Graphics: Intel Iris Plus 1536MB\n",
    "Memory: 3733MHz LPDDR4X RAM up to 32GB"
   ]
  },
  {
   "attachments": {},
   "cell_type": "markdown",
   "metadata": {},
   "source": [
    "### Sorting\n",
    "\n",
    "Sorting algorithms implemented: \n",
    "1. Bubble Sort\n",
    "2. Selection Sort\n",
    "3. Insertion Sort\n",
    "4. Quick Sort\n",
    "5. Merge Sort\n",
    "\n",
    "**C++ Sorting**\n",
    "\n",
    "![C++ Results](imgs/sorts_c%2B%2B.png)"
   ]
  }
 ],
 "metadata": {
  "kernelspec": {
   "display_name": "Python 3",
   "language": "python",
   "name": "python3"
  },
  "language_info": {
   "name": "python",
   "version": "3.11.1"
  },
  "orig_nbformat": 4,
  "vscode": {
   "interpreter": {
    "hash": "1a1af0ee75eeea9e2e1ee996c87e7a2b11a0bebd85af04bb136d915cefc0abce"
   }
  }
 },
 "nbformat": 4,
 "nbformat_minor": 2
}
